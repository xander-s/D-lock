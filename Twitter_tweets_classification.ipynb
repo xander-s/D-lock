{
  "cells": [
    {
      "cell_type": "markdown",
      "metadata": {
        "id": "view-in-github",
        "colab_type": "text"
      },
      "source": [
        "<a href=\"https://colab.research.google.com/github/xander-s/D-lock/blob/xander-s-patch-1/Twitter_tweets_classification.ipynb\" target=\"_parent\"><img src=\"https://colab.research.google.com/assets/colab-badge.svg\" alt=\"Open In Colab\"/></a>"
      ]
    },
    {
      "cell_type": "code",
      "source": [
        "import openai\n",
        "from google.colab import userdata\n",
        "openai.api_key=userdata.get('API_KEY')\n",
        "\n",
        "# Set your OpenAI API key\n",
        "\n",
        "def analyze_sentiment_with_openai(tweet):\n",
        "    prompt = f\"Classify the sentiment of the following tweet '{tweet}': as corruption, safety, robbery, praise\"\n",
        "\n",
        "    # Make an API call to OpenAI\n",
        "    response = openai.chat.completions.create(\n",
        "        model=\"gpt-3.5-turbo\",\n",
        "        messages=[\n",
        "            {\n",
        "                \"role\":\"user\",\"content\":prompt+\"print the sentiment only\"\n",
        "            }\n",
        "          ],\n",
        "        max_tokens=50,  # Adjust max_tokens based on your needs\n",
        "        n=1,\n",
        "        stop=None,\n",
        "        temperature=0  # Adjust temperature for more conservative or creative responses\n",
        "    )\n",
        "    # Extract sentiment from OpenAI's response\n",
        "    generated_sentiment = response.choices[0].message.content\n",
        "\n",
        "    return generated_sentiment[generated_sentiment.rfind(\" \")+1:]\n",
        "\n",
        "def categorize_sentiment(sentiment):\n",
        "    # Add your own logic for categorization\n",
        "    if sentiment == 'robbery':\n",
        "        return 'Immediate action needed'\n",
        "    elif sentiment == 'praise':\n",
        "        return 'Thank You'\n",
        "    else:\n",
        "        return 'No action needed'\n",
        "\n",
        "# Example tweets\n",
        "tweets = [\n",
        "    \"मंदिर में चोरी हो गयी\",\n",
        "    \"The officer is getting praised for his work\"\n",
        "]\n",
        "\n",
        "for tweet in tweets:\n",
        "    sentiment = analyze_sentiment_with_openai(tweet)\n",
        "    category = categorize_sentiment(sentiment)\n",
        "    print(f'Tweet: \"{tweet}\"')\n",
        "    print(f'Sentiment: {sentiment}')\n",
        "    print(f'Category: {category}')\n",
        "    print('---')\n"
      ],
      "metadata": {
        "colab": {
          "base_uri": "https://localhost:8080/"
        },
        "id": "JM69J-vMkSW1",
        "outputId": "b6db5529-1ee0-45ad-f9b7-74ebc0db0692"
      },
      "execution_count": 64,
      "outputs": [
        {
          "output_type": "stream",
          "name": "stdout",
          "text": [
            "Tweet: \"मंदिर में चोरी हो गयी\"\n",
            "Sentiment: robbery\n",
            "Category: Immediate action needed\n",
            "---\n",
            "Tweet: \"The officer is getting praised for his work\"\n",
            "Sentiment: praise\n",
            "Category: Thank You\n",
            "---\n"
          ]
        }
      ]
    }
  ],
  "metadata": {
    "colab": {
      "provenance": [],
      "include_colab_link": true
    },
    "kernelspec": {
      "display_name": "Python 3",
      "name": "python3"
    }
  },
  "nbformat": 4,
  "nbformat_minor": 0
}